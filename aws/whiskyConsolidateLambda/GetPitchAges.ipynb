{
 "cells": [
  {
   "cell_type": "raw",
   "id": "3eaf7d90-1b70-4181-b35a-38001a1e8a5b",
   "metadata": {},
   "source": [
    "https://www.whiskyinvestdirect.com/benrinnes/2017/Q3/HHR/chart.do\n",
    "\n",
    "\n",
    " ++++++++++++++++++++\n",
    " ALREADY DONE\n",
    " ++++++++++++++++++++\n",
    "There's a script tag with:\n",
    "$(document).ready(function() {\n",
    "\t\t\tvar whiskyList = [{\"distiller.... \n",
    "            Chart.drawChart( $('#chartContainer'), [{\"day\":48,\"dealDate\":1506902400000,\"priceAvg\":3.58},{\"day\":49,\"dealD .....\n",
    "\n",
    "Can also get all picthes here: https://www.whiskyinvestdirect.com/view_market_json.do\n",
    "\n",
    "\n",
    "\t\n",
    "market\t\n",
    "pitches\t\n",
    "0\t\n",
    "pitchId\t372\n",
    "securityId\t\"SPIRIT000287\"\n",
    "distillery\t\"CAMERONBRIDGE\"\n",
    "categoryName\t\"GRAIN\"\n",
    "barrelTypeCode\t\"BBR\"\n",
    "bondYear\t2020\n",
    "bondQuarter\t\"Q2\"\n",
    "soldOut\ttrue\n",
    "minorLine\tfalse\n",
    "considerationCurrency\t\"GBP\"\n",
    "prices\t[…]\n",
    "\n",
    "\n",
    "All pitches can be converted into URLs:\n",
    "ARDNAMURCHAN_NONPEATED = ardnamurchan-nonpeated\n",
    "BLAIR_ATHOL=blair-athol\n",
    "...\n",
    "\n",
    "Deal date: {\"day\":55,\"dealDate\":1515456000000,\"priceAvg\":3.64},{\"day\":56,\"dealDate\":1515542400000,\"priceAvg\":3.63},{\"day\":57,\"dealDate\":1515628800000,\"priceAvg\":3.62},{\"day\":58,\"dealDate\":1515715200000,\"priceAvg\":3.63},{\"day\":61,\"dealDate\":1515974400000,\"priceAvg\":3.68},{\"day\":62,\"dealDate\":1516060800000,\"priceAvg\":3.69},{\"day\":63,\"dealDate\":1516147200000,\"priceAvg\":3.71},{\"day\":64,\"dealDate\":1516233600000,\"priceAvg\":3.73},{\"day\":65,\"dealDate\":1516320000000,\"priceAvg\":3.76}\n",
    "day 55 / 1515456000000 = 8th Jan 2018\n"
   ]
  },
  {
   "cell_type": "code",
   "execution_count": 6,
   "id": "a8eb53cc-7157-40a8-ab6d-164c8c5f4fbd",
   "metadata": {},
   "outputs": [
    {
     "data": {
      "text/plain": [
       "datetime.datetime(2018, 1, 9, 16, 0)"
      ]
     },
     "execution_count": 6,
     "metadata": {},
     "output_type": "execute_result"
    }
   ],
   "source": [
    "from datetime import datetime\n",
    "\n",
    "timestamp = 1515542400000 / 1000\n",
    "dt_object = datetime.fromtimestamp(timestamp)\n",
    "dt_object"
   ]
  },
  {
   "cell_type": "code",
   "execution_count": null,
   "id": "3eba359f-a214-4431-8613-be292b188d54",
   "metadata": {},
   "outputs": [],
   "source": []
  }
 ],
 "metadata": {
  "kernelspec": {
   "display_name": "Python 3 (ipykernel)",
   "language": "python",
   "name": "python3"
  },
  "language_info": {
   "codemirror_mode": {
    "name": "ipython",
    "version": 3
   },
   "file_extension": ".py",
   "mimetype": "text/x-python",
   "name": "python",
   "nbconvert_exporter": "python",
   "pygments_lexer": "ipython3",
   "version": "3.9.7"
  }
 },
 "nbformat": 4,
 "nbformat_minor": 5
}
